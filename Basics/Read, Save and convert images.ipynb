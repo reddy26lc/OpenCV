{
 "cells": [
  {
   "cell_type": "markdown",
   "metadata": {},
   "source": [
    "### In this notebook we will see how to read, save and convert colour images to grayscale and vice-versa. \n",
    "We prefer to convert colour images to grayscale images. Its much easier to work with grayscale images than color images because grayscale images store less information but keeping all necessay components and segments of image intact. Also, lot of openCV functions work efficiently on grayscale images. "
   ]
  },
  {
   "cell_type": "code",
   "execution_count": 1,
   "metadata": {},
   "outputs": [
    {
     "name": "stdout",
     "output_type": "stream",
     "text": [
      "Requirement already satisfied: opencv-python in c:\\users\\leo26\\anaconda3\\lib\\site-packages (4.4.0.46)\n",
      "Requirement already satisfied: numpy>=1.14.5 in c:\\users\\leo26\\anaconda3\\lib\\site-packages (from opencv-python) (1.19.2)\n"
     ]
    },
    {
     "name": "stderr",
     "output_type": "stream",
     "text": [
      "WARNING: You are using pip version 20.2.3; however, version 20.3.1 is available.\n",
      "You should consider upgrading via the 'c:\\users\\leo26\\anaconda3\\python.exe -m pip install --upgrade pip' command.\n"
     ]
    }
   ],
   "source": [
    "#Install OpenCv\n",
    "\n",
    "!pip install opencv-python"
   ]
  },
  {
   "cell_type": "code",
   "execution_count": 2,
   "metadata": {},
   "outputs": [],
   "source": [
    "#Import necessary libraries\n",
    "\n",
    "import cv2\n",
    "import numpy as np"
   ]
  },
  {
   "cell_type": "code",
   "execution_count": 3,
   "metadata": {},
   "outputs": [],
   "source": [
    "#Load an image using 'imread' function passing path of image as an argument\n",
    "\n",
    "image = cv2.imread(\"cat_img.jpg\")\n"
   ]
  },
  {
   "cell_type": "code",
   "execution_count": 4,
   "metadata": {},
   "outputs": [
    {
     "name": "stdout",
     "output_type": "stream",
     "text": [
      "(189, 267, 3)\n"
     ]
    }
   ],
   "source": [
    "#Check the dimensions of the image (Height, Width, Channels). Color images have channel = 3 and grayscale has 1\n",
    "\n",
    "print(image.shape)"
   ]
  },
  {
   "cell_type": "code",
   "execution_count": 5,
   "metadata": {},
   "outputs": [],
   "source": [
    "#Display the loaded image\n",
    "\n",
    "cv2.imshow(\"Image\", image) #Image is the title that will be displayed\n",
    "cv2.waitKey(0)  #0 means the image will remain on the screen unless the user cancels it.\n",
    "#If you put 5000 (i.e. in milliseconds), instead of 0, \n",
    "#the image will be displayed for 5 seconds and will close automatically.\n",
    "\n",
    "cv2.destroyAllWindows() "
   ]
  },
  {
   "cell_type": "code",
   "execution_count": 8,
   "metadata": {},
   "outputs": [],
   "source": [
    "#Image can be converted to Grayscale at the loading time by passing an additional argument cv2.imread_grayscale\n",
    "\n",
    "image_gray = cv2.imread(\"cat_img.jpg\", 0) # the 0 will convert image to grayscale\n",
    "#Instead of 0 if we put 1 it will remain as the color image. Even without 1 its by default colour\n",
    "\n",
    "cv2.imshow(\"Image\", image_gray)\n",
    "cv2.waitKey(4000)\n",
    "cv2.destroyAllWindows() "
   ]
  },
  {
   "cell_type": "code",
   "execution_count": 10,
   "metadata": {},
   "outputs": [],
   "source": [
    "#Alternate way of converting an image to grayscale\n",
    "image = cv2.imread(\"cat_img.jpg\")\n",
    "image_grayscale = cv2.cvtColor(image, cv2.COLOR_BGR2GRAY)\n",
    "cv2.imshow(\"Image\", image_grayscale)\n",
    "cv2.waitKey(4000)\n",
    "cv2.destroyAllWindows() "
   ]
  },
  {
   "cell_type": "code",
   "execution_count": 11,
   "metadata": {},
   "outputs": [
    {
     "data": {
      "text/plain": [
       "True"
      ]
     },
     "execution_count": 11,
     "metadata": {},
     "output_type": "execute_result"
    }
   ],
   "source": [
    "#Saving the image\n",
    "\n",
    "cv2.imwrite('gray_image.jpg', image_grayscale)"
   ]
  },
  {
   "cell_type": "code",
   "execution_count": null,
   "metadata": {},
   "outputs": [],
   "source": []
  }
 ],
 "metadata": {
  "kernelspec": {
   "display_name": "Python 3",
   "language": "python",
   "name": "python3"
  },
  "language_info": {
   "codemirror_mode": {
    "name": "ipython",
    "version": 3
   },
   "file_extension": ".py",
   "mimetype": "text/x-python",
   "name": "python",
   "nbconvert_exporter": "python",
   "pygments_lexer": "ipython3",
   "version": "3.7.3"
  }
 },
 "nbformat": 4,
 "nbformat_minor": 2
}
